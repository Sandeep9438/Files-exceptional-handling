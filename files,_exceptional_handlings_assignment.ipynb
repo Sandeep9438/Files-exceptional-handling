{
  "cells": [
    {
      "cell_type": "code",
      "execution_count": null,
      "metadata": {
        "id": "Dk5zRkvisOUu"
      },
      "outputs": [],
      "source": [
        "#1. What is the difference between interpreted and compiled languages ?\n",
        "\"\"\"\n",
        "- In interpreted language, source code is translated into machine code by a complier.\n",
        "- In compiled language, source code is executed line by line by an interpreter.\n",
        "\n",
        "-In interpreted language, errors appear when the faluty line is executed.\n",
        "-In compiled language, errors are detected before the program runs.\n",
        "\n",
        "-Interpreted language does not produce an executable file.\n",
        "-Compiled language produces an separate executable file.\n",
        "\"\"\""
      ]
    },
    {
      "cell_type": "code",
      "execution_count": null,
      "metadata": {
        "id": "ZZ0_SXpxwWBi"
      },
      "outputs": [],
      "source": [
        "#2. What is exception handling in Python ?\n",
        "\"\"\"\n",
        "Exception means an error that happen while a programm is running. Exception handling is a way of handling these errors.\n",
        "\"\"\""
      ]
    },
    {
      "cell_type": "code",
      "execution_count": null,
      "metadata": {
        "id": "A7LQ3VbFxjkw"
      },
      "outputs": [],
      "source": [
        "#3. What is the purpose of the finally block in exception handling ?\n",
        "\"\"\"\n",
        "In exception handling, we use finally block to write code that will be executed or run not matter what happened. It is often used to clean up resources.\n",
        "\"\"\""
      ]
    },
    {
      "cell_type": "code",
      "execution_count": null,
      "metadata": {
        "id": "zFkdtwrHzGBa"
      },
      "outputs": [],
      "source": [
        "#4.  What is logging in Python ?\n",
        "\"\"\"\n",
        "In python, looging is a way of record messagge about what is happening in a program. Simply it use for writing down messages about what a program is doing.\n",
        "\"\"\""
      ]
    },
    {
      "cell_type": "code",
      "execution_count": null,
      "metadata": {
        "id": "jpo9i1M70dbW"
      },
      "outputs": [],
      "source": [
        "#5. What is the significance of the __del__ method in Python ?\n",
        "\"\"\"\n",
        "It is a special method that is called when an object is about to be destroyed/ being deleted. It is clean up a thing before it is removed from the memory.\n",
        "\"\"\""
      ]
    },
    {
      "cell_type": "code",
      "execution_count": null,
      "metadata": {
        "id": "oxzOoxnv1qOh"
      },
      "outputs": [],
      "source": [
        "#6. What is the difference between import and from ... import in Python ?\n",
        "\"\"\"\n",
        "- Import is used to import whole tools from a module. We need to write the module name to use the tools.\n",
        "- From ... import is used to import a specific function from a module. We don't need to write the module name to use the function and we also use it directly.\n",
        "\"\"\""
      ]
    },
    {
      "cell_type": "code",
      "execution_count": null,
      "metadata": {
        "id": "v5S6qNod3TrN"
      },
      "outputs": [],
      "source": [
        "#7. How can you handle multiple exceptions in Python ?\n",
        "\"\"\"\n",
        "For handle multiple exceptions in python, by using multiple exccept blocks.\n",
        "\"\"\""
      ]
    },
    {
      "cell_type": "code",
      "execution_count": null,
      "metadata": {
        "colab": {
          "base_uri": "https://localhost:8080/",
          "height": 36
        },
        "collapsed": true,
        "id": "EoS1x54S37LW",
        "outputId": "7896a180-c03d-464b-ca63-ea5dc81e8abc"
      },
      "outputs": [
        {
          "data": {
            "application/vnd.google.colaboratory.intrinsic+json": {
              "type": "string"
            },
            "text/plain": [
              "''"
            ]
          },
          "execution_count": 1,
          "metadata": {},
          "output_type": "execute_result"
        }
      ],
      "source": [
        "#8. What is the purpose of the with statement when handling files in Python ?\n",
        "\"\"\"\n",
        "In python, when we handling files we use with statement to make sure that the file is automaticlly closed after the work is done.\n",
        "\"\"\""
      ]
    },
    {
      "cell_type": "code",
      "execution_count": null,
      "metadata": {
        "id": "U2TJEqa24RzE"
      },
      "outputs": [],
      "source": [
        "#9. What is the difference between multithreading and multiprocessing ?\n",
        "\"\"\"\n",
        "- Multithreading runs many small threads inside one program.\n",
        "- Multiprocessing runs many separate programs at the same time.\n",
        "\n",
        "- In multithreading, all threads share the same memory.\n",
        "- In multiprocessing, each thread has its own memory.\n",
        "\"\"\""
      ]
    },
    {
      "cell_type": "code",
      "execution_count": null,
      "metadata": {
        "id": "_f2k_Neg7U8I"
      },
      "outputs": [],
      "source": [
        "#10. What are the advantages of using logging in a program ?\n",
        "\"\"\"\n",
        "- use to track the program what is happeing in this while it runs.\n",
        "- helpful for find problems easily and fixing.\n",
        "- it allow different levels of messages like- error, info, warning etc.\n",
        "- it can record important information about the future reference.\n",
        "- Can save logs to a file for checking later\n",
        "\"\"\""
      ]
    },
    {
      "cell_type": "code",
      "execution_count": null,
      "metadata": {
        "id": "YoFGGFVK9Rvt"
      },
      "outputs": [],
      "source": [
        "#11. What is memory management in Python ?\n",
        "\"\"\"\n",
        "In python, memory management handles how the program store data and remove data from a memory. Memory management is like a housekeeper.\n",
        "\"\"\""
      ]
    },
    {
      "cell_type": "code",
      "execution_count": null,
      "metadata": {
        "id": "7G5l49Ns93rv"
      },
      "outputs": [],
      "source": [
        "#12. What are the basic steps involved in exception handling in Python ?\n",
        "\"\"\"\n",
        "- Put the risky code inside a try block.\n",
        "- If an error happens, Python jumps to the except block.\n",
        "- Write code in the except block to handle the error.\n",
        "- Use else block for code that should run if no error happens.\n",
        "- Use finally block for code that should run no matter what happen.\n",
        "\"\"\""
      ]
    },
    {
      "cell_type": "code",
      "execution_count": null,
      "metadata": {
        "id": "lypCS4F--sc2"
      },
      "outputs": [],
      "source": [
        "#13. Why is memory management important in Python ?\n",
        "\"\"\"\n",
        "- It makes sure the program uses memory efficiently.\n",
        "- It prevents memory leaks, which can slow down or crash the program.\n",
        "- It frees up memory that is no longer needed, so other programs can use it.\n",
        "- It helps the program run faster and smoother.\n",
        "- It allows Python to handle large amounts of data without wasting resources.\n",
        "\"\"\""
      ]
    },
    {
      "cell_type": "code",
      "execution_count": null,
      "metadata": {
        "id": "eRHMrcg9_QM4"
      },
      "outputs": [],
      "source": [
        "#14. What is the role of try and except in exception handling ?\n",
        "\"\"\"\n",
        "- Try block contains the code that might cause an error.\n",
        "- Except block contains the code that runs if an error happens. If no error happens, the except block is skipped\n",
        "\"\"\""
      ]
    },
    {
      "cell_type": "code",
      "execution_count": null,
      "metadata": {
        "id": "bjzPAh7H_zAh"
      },
      "outputs": [],
      "source": [
        "#15.  How does Python's garbage collection system work ?\n",
        "\"\"\"\n",
        "Python's garbage collenction system work automatically for freeing memory, that is no longer is used.\n",
        "\"\"\""
      ]
    },
    {
      "cell_type": "code",
      "execution_count": null,
      "metadata": {
        "id": "gT6-nYvrAbY2"
      },
      "outputs": [],
      "source": [
        "#16. What is the purpose of the else block in exception handling ?\n",
        "\"\"\"\n",
        "- The else block runs only if no error happens in the try block.\n",
        "- It helps keep the code clean by separating normal code from error-handling code.\n",
        "\"\"\""
      ]
    },
    {
      "cell_type": "code",
      "execution_count": null,
      "metadata": {
        "id": "ggBJ9sCBAgq0"
      },
      "outputs": [],
      "source": [
        "#17. What are the common logging levels in Python ?\n",
        "\"\"\"\n",
        "In python, common logging levels are:- Debug, Info, Warning, Error\n",
        "\"\"\""
      ]
    },
    {
      "cell_type": "code",
      "execution_count": null,
      "metadata": {
        "id": "QTQ1pwmAByKP"
      },
      "outputs": [],
      "source": [
        "#18. What is the difference between os.fork() and multiprocessing in Python ?"
      ]
    },
    {
      "cell_type": "code",
      "execution_count": null,
      "metadata": {
        "id": "8UFHDZlgCPSx"
      },
      "outputs": [],
      "source": [
        "#19. What is the importance of closing a file in Python ?\n",
        "\"\"\"\n",
        "- It saves any changes made to the file.\n",
        "- It frees up system resources used by the file.\n",
        "- It prevents data loss or corruption.\n",
        "\"\"\""
      ]
    },
    {
      "cell_type": "code",
      "execution_count": null,
      "metadata": {
        "id": "e4SGMFL_CnWh"
      },
      "outputs": [],
      "source": [
        "#20. What is the difference between file.read() and file.readline() in Python ?\n",
        "\"\"\"\n",
        "File.read() reads the whole file at once. But file.readline() reads only one line from a file at a time.\n",
        "\"\"\""
      ]
    },
    {
      "cell_type": "code",
      "execution_count": null,
      "metadata": {
        "id": "r6VTtdAaDf3F"
      },
      "outputs": [],
      "source": [
        "#21. What is the logging module in Python used for ?\n",
        "\"\"\"\n",
        "- use to track the program what is happeing in this while it runs.\n",
        "- helpful for find problems easily and fixing.\n",
        "- it allow different levels of messages like- error, info, warning etc.\n",
        "- it can record important information about the future reference.\n",
        "- Can save logs to a file for checking later\n",
        "\"\"\""
      ]
    },
    {
      "cell_type": "code",
      "execution_count": null,
      "metadata": {
        "id": "0IFEIWQzD7Qj"
      },
      "outputs": [],
      "source": [
        "#22. What is the os module in Python used for in file handling ?\n",
        "\"\"\"\n",
        "The os module in Python is used to work with the operating system. In file handling, it helps to create, delete, and manaage files and folders.\n",
        "It can also be used to change directories, check if a file exists, and to get file informatio.\n",
        "\"\"\""
      ]
    },
    {
      "cell_type": "code",
      "execution_count": null,
      "metadata": {
        "id": "AV7obOW1EAvW"
      },
      "outputs": [],
      "source": [
        "#23. What are the challenges associated with memory management in Python ?\n",
        "\"\"\"\n",
        "- Memory leaks can happen if unused objects are still referenced.\n",
        "- Circular references can make it harder for garbage collection to free memory.\n",
        "- Large data structures can use a lot of memory if not managed well.\n",
        "\"\"\""
      ]
    },
    {
      "cell_type": "code",
      "execution_count": null,
      "metadata": {
        "id": "suhaBVWEFNsc"
      },
      "outputs": [],
      "source": [
        "#24. How do you raise an exception manually in Python ?\n",
        "\"\"\"\n",
        "We raise an exception manually in python by using raise keyword. It is useful when we want to stop the program if a certain condition happens.\n",
        "\"\"\""
      ]
    },
    {
      "cell_type": "code",
      "execution_count": null,
      "metadata": {
        "id": "Mc3VEB0zFNv6"
      },
      "outputs": [],
      "source": [
        "#25. Why is it important to use multithreading in certain applications ?\n",
        "\"\"\"\n",
        "- It allows multiple tasks to run at the same time in a single program.\n",
        "- It makes programs faster when tasks spend time waiting\n",
        "- It improves the performance of applications that need to handle many users at once.\n",
        "\"\"\""
      ]
    },
    {
      "cell_type": "markdown",
      "metadata": {
        "id": "O2rQKOByGtRu"
      },
      "source": [
        "## Practical"
      ]
    },
    {
      "cell_type": "code",
      "execution_count": null,
      "metadata": {
        "colab": {
          "base_uri": "https://localhost:8080/"
        },
        "id": "osboAzhbGu9U",
        "outputId": "844b45b7-9c41-4fd6-8207-45734fafe46a"
      },
      "outputs": [
        {
          "name": "stdout",
          "output_type": "stream",
          "text": [
            "Hello, how are you\n"
          ]
        }
      ],
      "source": [
        "#1. How can you open a file for writing in Python and write a string to it ?\n",
        "\n",
        "with open(\"file.txt\", \"w\") as file:\n",
        "  file.write(\"Hello, how are you\")\n",
        "\n",
        "with open(\"file.txt\", \"r\") as file:\n",
        "  data = file.read()\n",
        "print(data)"
      ]
    },
    {
      "cell_type": "code",
      "execution_count": null,
      "metadata": {
        "colab": {
          "base_uri": "https://localhost:8080/"
        },
        "id": "lQ7SwdeYfpfN",
        "outputId": "5892f3ee-60e6-458e-8524-cd54667d8901"
      },
      "outputs": [
        {
          "name": "stdout",
          "output_type": "stream",
          "text": [
            "Hello, how are you\n"
          ]
        }
      ],
      "source": [
        "#2. Write a Python program to read the contents of a file and print each line ?\n",
        "\n",
        "with open(\"file.txt\", \"r\") as file:\n",
        "  for line in file:\n",
        "    print(line)"
      ]
    },
    {
      "cell_type": "code",
      "execution_count": null,
      "metadata": {
        "colab": {
          "base_uri": "https://localhost:8080/"
        },
        "id": "CU__ssyqhlHB",
        "outputId": "cf6ffb93-f2d7-4e19-cf2a-c096b94fb6a2"
      },
      "outputs": [
        {
          "name": "stdout",
          "output_type": "stream",
          "text": [
            "Error: The file does not exist.\n"
          ]
        }
      ],
      "source": [
        "#3. How would you handle a case where the file doesn't exist while trying to open it for reading ?\n",
        "\n",
        "try:\n",
        "    with open(\"example.txt\", \"r\") as file:\n",
        "        for line in file:\n",
        "            print(line.strip())\n",
        "except FileNotFoundError:\n",
        "    print(\"Error: The file does not exist.\")"
      ]
    },
    {
      "cell_type": "code",
      "execution_count": null,
      "metadata": {
        "id": "X7fIk-7yjGjA"
      },
      "outputs": [],
      "source": [
        "#4. Write a Python script that reads from one file and writes its content to another file ?\n",
        "\n",
        "with open(\"file1.txt\", \"w\") as file1:\n",
        "    file1.write(\"This is the first line\")\n",
        "\n",
        "# Now read from file1.txt and write to file2.txt\n",
        "with open(\"file1.txt\", \"r\") as file1:\n",
        "  with open(\"file2.txt\", \"w\") as file2:\n",
        "    for line in file1:\n",
        "      file2.write(line)"
      ]
    },
    {
      "cell_type": "code",
      "execution_count": null,
      "metadata": {
        "colab": {
          "base_uri": "https://localhost:8080/"
        },
        "id": "nbV5UMXIlN6f",
        "outputId": "55868a54-e4ad-4d10-ab59-c5d8763f5ca3"
      },
      "outputs": [
        {
          "name": "stdout",
          "output_type": "stream",
          "text": [
            "Error: Division by zero is not valid\n"
          ]
        }
      ],
      "source": [
        "#5. How would you catch and handle division by zero error in Python ?\n",
        "\n",
        "try:\n",
        "    a = 10\n",
        "    b = 0\n",
        "    result = a / b\n",
        "    print(result)\n",
        "except ZeroDivisionError:\n",
        "    print(\"Error: Division by zero is not valid\")"
      ]
    },
    {
      "cell_type": "code",
      "execution_count": null,
      "metadata": {
        "id": "sSv7FYkWm8f2"
      },
      "outputs": [],
      "source": [
        "#6. Write a Python program that logs an error message to a log file when a division by zero exception occurs ?"
      ]
    },
    {
      "cell_type": "code",
      "execution_count": null,
      "metadata": {
        "id": "nnvcYRxLngvR"
      },
      "outputs": [],
      "source": [
        "#7. How do you log information at different levels (INFO, ERROR, WARNING) in Python using the logging module ?"
      ]
    },
    {
      "cell_type": "code",
      "execution_count": null,
      "metadata": {
        "colab": {
          "base_uri": "https://localhost:8080/"
        },
        "id": "oTV8Q195ngxf",
        "outputId": "4118d40e-5590-4d78-b4f3-0d21e35012e7"
      },
      "outputs": [
        {
          "name": "stdout",
          "output_type": "stream",
          "text": [
            "Error: The file does not exist.\n"
          ]
        }
      ],
      "source": [
        "#8. Write a program to handle a file opening error using exception handling ?\n",
        "\n",
        "try:\n",
        "    with open(\"file3.txt\", \"r\") as file:\n",
        "        for line in file:\n",
        "            print(line)\n",
        "except FileNotFoundError:\n",
        "    print(\"Error: The file does not exist.\")"
      ]
    },
    {
      "cell_type": "code",
      "execution_count": null,
      "metadata": {
        "colab": {
          "base_uri": "https://localhost:8080/"
        },
        "id": "Y0tifyGOng0D",
        "outputId": "47e5d515-861f-4785-8f7c-bf31d249f1cd"
      },
      "outputs": [
        {
          "name": "stdout",
          "output_type": "stream",
          "text": [
            "['Hello, how are you']\n"
          ]
        }
      ],
      "source": [
        "#9. How can you read a file line by line and store its content in a list in Python ?\n",
        "\n",
        "lines = []\n",
        "with open(\"file.txt\", \"r\") as file:\n",
        "    for line in file:\n",
        "        lines.append(line.strip())\n",
        "print(lines)"
      ]
    },
    {
      "cell_type": "code",
      "execution_count": null,
      "metadata": {
        "id": "hmOBthP9qCyb"
      },
      "outputs": [],
      "source": [
        "#10.  How can you append data to an existing file in Python ?\n",
        "\n",
        "with open(\"file.txt\", \"a\") as file:\n",
        "    file.write(\"\\nThis is the second line\")"
      ]
    },
    {
      "cell_type": "code",
      "execution_count": null,
      "metadata": {
        "colab": {
          "base_uri": "https://localhost:8080/"
        },
        "id": "82YvSmMZqLzc",
        "outputId": "b23f0807-4d05-420b-9e0c-da9112e4431d"
      },
      "outputs": [
        {
          "name": "stdout",
          "output_type": "stream",
          "text": [
            "Error: The key 'address' does not exist in the dictionary.\n"
          ]
        }
      ],
      "source": [
        "#11.  Write a Python program that uses a try-except block to handle an error when attempting to access a dictionary key that doesn't exist ?\n",
        "\n",
        "my_dict = {\"name\": \"Ajay\", \"age\": 25}\n",
        "try:\n",
        "    print(my_dict[\"address\"])\n",
        "except KeyError:\n",
        "    print(\"Error: The key 'address' does not exist in the dictionary.\")"
      ]
    },
    {
      "cell_type": "code",
      "execution_count": null,
      "metadata": {
        "colab": {
          "base_uri": "https://localhost:8080/"
        },
        "id": "lY24RQt3qkd_",
        "outputId": "bf318a3e-85d7-4fa7-d5ca-fe5970d257b8"
      },
      "outputs": [
        {
          "name": "stdout",
          "output_type": "stream",
          "text": [
            "Enter a number: 10\n",
            "Enter another number: 0\n",
            "Error: You can't divide by zero!\n"
          ]
        }
      ],
      "source": [
        "#12. Write a program that demonstrates using multiple except blocks to handle different types of exceptions ?\n",
        "\n",
        "try:\n",
        "    a = int(input(\"Enter a number: \"))\n",
        "    b = int(input(\"Enter another number: \"))\n",
        "    result = a / b\n",
        "    print(\"Result:\", result)\n",
        "except ZeroDivisionError:\n",
        "    print(\"Error: You can't divide by zero!\")\n",
        "except ValueError:\n",
        "    print(\"Error: Please enter a valid integer.\")\n",
        "except Exception as e:\n",
        "    print(f\"An unexpected error occurred: {e}\")"
      ]
    },
    {
      "cell_type": "code",
      "execution_count": null,
      "metadata": {
        "colab": {
          "background_save": true,
          "base_uri": "https://localhost:8080/"
        },
        "id": "TXcAAyJGrf1Q",
        "outputId": "99f557ac-6cd4-42f0-a2a5-ae6cd0c31619"
      },
      "outputs": [
        {
          "name": "stdout",
          "output_type": "stream",
          "text": [
            "The file 'my_file.txt' does not exist.\n"
          ]
        }
      ],
      "source": [
        "#13. How would you check if a file exists before attempting to read it in Python ?\n",
        "\n",
        "import os\n",
        "\n",
        "filename = \"file.txt\"\n",
        "\n",
        "if os.path.exists(filename):\n",
        "    with open(filename, \"r\") as file:\n",
        "        content = file.read()\n",
        "        print(content)\n",
        "else:\n",
        "    print(f\"The file '{filename}' does not exist.\")"
      ]
    },
    {
      "cell_type": "code",
      "execution_count": null,
      "metadata": {
        "id": "7qJcmIk9tawc"
      },
      "outputs": [],
      "source": [
        "#14. Write a program that uses the logging module to log both informational and error messages ?"
      ]
    },
    {
      "cell_type": "code",
      "source": [
        "#15.  Write a Python program that prints the content of a file and handles the case when the file is empty ?\n",
        "\n",
        "try:\n",
        "    with open(\"file.txt\", \"r\") as file:\n",
        "        content = file.read()\n",
        "        if not content:\n",
        "            print(\"Error: The file is empty.\")\n",
        "        else:\n",
        "            print(content)\n",
        "except FileNotFoundError:\n",
        "    print(\"Error: The file does not exist.\")"
      ],
      "metadata": {
        "colab": {
          "base_uri": "https://localhost:8080/"
        },
        "id": "IMqxAvABMNBi",
        "outputId": "3e47393c-6115-48bd-8dfb-24402ef4840b"
      },
      "execution_count": 1,
      "outputs": [
        {
          "output_type": "stream",
          "name": "stdout",
          "text": [
            "Error: The file does not exist.\n"
          ]
        }
      ]
    },
    {
      "cell_type": "code",
      "source": [
        "#16. Demonstrate how to use memory profiling to check the memory usage of a small program ?"
      ],
      "metadata": {
        "id": "FIPNhvUTMNKZ"
      },
      "execution_count": null,
      "outputs": []
    },
    {
      "cell_type": "code",
      "source": [
        "#17. Write a Python program to create and write a list of numbers to a file, one number per line ?\n",
        "\n",
        "numbers = [1, 2, 3, 4, 5]\n",
        "filename = \"numbers.txt\"\n",
        "with open(\"numbers.txt\", \"w\") as file:\n",
        "    for num in numbers:\n",
        "        file.write(str(number) + \"\\n\")\n",
        "print(f\"Numbers have been written to {filename}\")"
      ],
      "metadata": {
        "colab": {
          "base_uri": "https://localhost:8080/"
        },
        "id": "y9tRQZa9MNVW",
        "outputId": "50064021-cb14-48f1-913a-0d0b73133edb"
      },
      "execution_count": 5,
      "outputs": [
        {
          "output_type": "stream",
          "name": "stdout",
          "text": [
            "Numbers have been written to numbers.txt\n"
          ]
        }
      ]
    },
    {
      "cell_type": "code",
      "source": [
        "#18. How would you implement a basic logging setup that logs to a file with rotation after 1MB ?"
      ],
      "metadata": {
        "id": "rc6snpnkMNdq"
      },
      "execution_count": null,
      "outputs": []
    },
    {
      "cell_type": "code",
      "source": [
        "#19. Write a program that handles both IndexError and KeyError using a try-except block ?\n",
        "\n",
        "my_list = [1, 2, 3]\n",
        "my_dict = {'a': 10, 'b': 20}\n",
        "\n",
        "try:\n",
        "    print(my_list[5])\n",
        "\n",
        "    print(my_dict['z'])\n",
        "except IndexError:\n",
        "    print(\"Caught an IndexError: List index out of range.\")\n",
        "\n",
        "except KeyError:\n",
        "    print(\"Caught a KeyError: Key not found in dictionary.\")"
      ],
      "metadata": {
        "colab": {
          "base_uri": "https://localhost:8080/"
        },
        "id": "vfOSQMFhMNmm",
        "outputId": "8fcc6b0f-caf6-4859-8474-e316850e8330"
      },
      "execution_count": 6,
      "outputs": [
        {
          "output_type": "stream",
          "name": "stdout",
          "text": [
            "Caught an IndexError: List index out of range.\n"
          ]
        }
      ]
    },
    {
      "cell_type": "code",
      "source": [
        "#20. How would you open a file and read its contents using a context manager in Python ?"
      ],
      "metadata": {
        "id": "fEoKLB0WMNvU"
      },
      "execution_count": null,
      "outputs": []
    },
    {
      "cell_type": "code",
      "source": [],
      "metadata": {
        "id": "iDWsVM0OMN3b"
      },
      "execution_count": null,
      "outputs": []
    },
    {
      "cell_type": "code",
      "source": [],
      "metadata": {
        "id": "pu9M08TLMN-2"
      },
      "execution_count": null,
      "outputs": []
    },
    {
      "cell_type": "code",
      "source": [],
      "metadata": {
        "id": "Ca3quHisMOFe"
      },
      "execution_count": null,
      "outputs": []
    },
    {
      "cell_type": "code",
      "source": [],
      "metadata": {
        "id": "LtivLq7xMOME"
      },
      "execution_count": null,
      "outputs": []
    },
    {
      "cell_type": "code",
      "source": [],
      "metadata": {
        "id": "yBc4DT_GMORR"
      },
      "execution_count": null,
      "outputs": []
    }
  ],
  "metadata": {
    "colab": {
      "provenance": []
    },
    "kernelspec": {
      "display_name": "Python 3",
      "name": "python3"
    },
    "language_info": {
      "name": "python"
    }
  },
  "nbformat": 4,
  "nbformat_minor": 0
}